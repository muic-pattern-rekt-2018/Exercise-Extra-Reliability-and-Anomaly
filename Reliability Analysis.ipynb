{
 "cells": [
  {
   "cell_type": "markdown",
   "id": "2e902019",
   "metadata": {},
   "source": [
    "# Reliability Analysis"
   ]
  },
  {
   "cell_type": "code",
   "execution_count": 13,
   "id": "0c446cde",
   "metadata": {
    "ExecuteTime": {
     "end_time": "2022-07-12T16:28:15.394677Z",
     "start_time": "2022-07-12T16:28:15.095705Z"
    }
   },
   "outputs": [],
   "source": [
    "from dataclasses import dataclass\n",
    "import numpy as np\n",
    "from scipy.special import expit"
   ]
  },
  {
   "cell_type": "markdown",
   "id": "9c19dc05",
   "metadata": {},
   "source": [
    "1) What is p?"
   ]
  },
  {
   "cell_type": "code",
   "execution_count": null,
   "id": "615df4ee",
   "metadata": {},
   "outputs": [],
   "source": []
  },
  {
   "cell_type": "markdown",
   "id": "bb7dd462",
   "metadata": {},
   "source": [
    "2) The Data looks like this."
   ]
  },
  {
   "cell_type": "code",
   "execution_count": 10,
   "id": "b12f3632",
   "metadata": {
    "ExecuteTime": {
     "end_time": "2022-07-12T16:14:04.492233Z",
     "start_time": "2022-07-12T16:14:04.463917Z"
    }
   },
   "outputs": [],
   "source": [
    "@dataclass\n",
    "class Observation:\n",
    "    broke: bool\n",
    "    days: int # include the day it broke as well\n",
    "        \n",
    "    def __str__(self):\n",
    "        return f'{self.days} {self.broke}'\n",
    "        \n",
    "def gen_data(p, max_n): # p is survival prob\n",
    "    for i in range(1, max_n+1):\n",
    "        \n",
    "        if np.random.random() > p:\n",
    "            return Observation(broke=True, days=i)\n",
    "    return Observation(broke=False, days=max_n)\n",
    "\n",
    "np.random.seed(555)\n",
    "p = 1-0.0123 # pretend you didn't see this\n",
    "data = [gen_data(p, 100) for i in range(200)]"
   ]
  },
  {
   "cell_type": "markdown",
   "id": "bf34195f",
   "metadata": {},
   "source": [
    "3) Try Plot PDF P(break on day d)"
   ]
  },
  {
   "cell_type": "code",
   "execution_count": null,
   "id": "9ea8bca0",
   "metadata": {},
   "outputs": [],
   "source": []
  },
  {
   "cell_type": "markdown",
   "id": "473a977b",
   "metadata": {},
   "source": [
    "4) How to we fix the fact the the graph is very spotty? What is the better thing to plot?"
   ]
  },
  {
   "cell_type": "code",
   "execution_count": null,
   "id": "8890d034",
   "metadata": {},
   "outputs": [],
   "source": []
  },
  {
   "cell_type": "markdown",
   "id": "0fbf726f",
   "metadata": {},
   "source": [
    "5) If you just average the day it breaks what happen?"
   ]
  },
  {
   "cell_type": "code",
   "execution_count": null,
   "id": "59736606",
   "metadata": {
    "ExecuteTime": {
     "end_time": "2022-07-12T16:14:05.616294Z",
     "start_time": "2022-07-12T16:14:05.598726Z"
    }
   },
   "outputs": [],
   "source": []
  },
  {
   "cell_type": "markdown",
   "id": "5d042a9c",
   "metadata": {},
   "source": [
    "6) Why is regression on time to fail a bad idea?"
   ]
  },
  {
   "cell_type": "code",
   "execution_count": null,
   "id": "6a06ae41",
   "metadata": {},
   "outputs": [],
   "source": []
  },
  {
   "cell_type": "markdown",
   "id": "f88b938c",
   "metadata": {},
   "source": [
    "7) How to find p? Find it. Find p along with MTBF."
   ]
  },
  {
   "cell_type": "code",
   "execution_count": null,
   "id": "d0e0d9cc",
   "metadata": {},
   "outputs": [],
   "source": []
  },
  {
   "cell_type": "markdown",
   "id": "787ffac2",
   "metadata": {},
   "source": [
    "8) Wear and Tear and other features. How do we incoporate wear and tear in our model?"
   ]
  },
  {
   "cell_type": "code",
   "execution_count": null,
   "id": "1ee49a04",
   "metadata": {},
   "outputs": [],
   "source": []
  },
  {
   "cell_type": "markdown",
   "id": "2f1ff59f",
   "metadata": {
    "ExecuteTime": {
     "end_time": "2022-07-12T16:27:15.450620Z",
     "start_time": "2022-07-12T16:27:15.423509Z"
    }
   },
   "source": [
    "9) Find w"
   ]
  },
  {
   "cell_type": "code",
   "execution_count": 41,
   "id": "1ed4521c",
   "metadata": {
    "ExecuteTime": {
     "end_time": "2022-07-12T16:33:35.328098Z",
     "start_time": "2022-07-12T16:33:35.288488Z"
    }
   },
   "outputs": [],
   "source": [
    "@dataclass\n",
    "class Observation:\n",
    "    broke: bool\n",
    "    days: int # include the day it broke as well\n",
    "        \n",
    "    def __str__(self):\n",
    "        return f'{self.days} {self.broke}'\n",
    "\n",
    "def p(t):\n",
    "    return expit(-t*0.015 +4) # again pretend you didn't see this\n",
    "\n",
    "def gen_data(p, max_n): # p is survival prob\n",
    "    for i in range(1, max_n+1):\n",
    "        if np.random.random() > p(i):\n",
    "            return Observation(broke=True, days=i)\n",
    "    return Observation(broke=False, days=max_n)\n",
    "\n",
    "np.random.seed(555)\n",
    "data = [gen_data(p, 100) for i in range(200)]"
   ]
  },
  {
   "cell_type": "code",
   "execution_count": null,
   "id": "97fab049",
   "metadata": {},
   "outputs": [],
   "source": []
  },
  {
   "cell_type": "markdown",
   "id": "be3125f2",
   "metadata": {},
   "source": [
    "10) What is MTBF now?"
   ]
  },
  {
   "cell_type": "code",
   "execution_count": null,
   "id": "1f25599e",
   "metadata": {
    "ExecuteTime": {
     "end_time": "2022-07-12T16:33:35.910679Z",
     "start_time": "2022-07-12T16:33:35.891347Z"
    }
   },
   "outputs": [],
   "source": []
  },
  {
   "cell_type": "markdown",
   "id": "174a7eec",
   "metadata": {
    "ExecuteTime": {
     "end_time": "2022-07-12T16:33:36.308435Z",
     "start_time": "2022-07-12T16:33:36.296394Z"
    }
   },
   "source": [
    "11) What is the p for day = 30?"
   ]
  },
  {
   "cell_type": "code",
   "execution_count": null,
   "id": "42471dd9",
   "metadata": {},
   "outputs": [],
   "source": []
  },
  {
   "cell_type": "code",
   "execution_count": null,
   "id": "1e9b88d7",
   "metadata": {},
   "outputs": [],
   "source": []
  }
 ],
 "metadata": {
  "hide_input": false,
  "kernelspec": {
   "display_name": "Python 3",
   "language": "python",
   "name": "python3"
  },
  "language_info": {
   "codemirror_mode": {
    "name": "ipython",
    "version": 3
   },
   "file_extension": ".py",
   "mimetype": "text/x-python",
   "name": "python",
   "nbconvert_exporter": "python",
   "pygments_lexer": "ipython3",
   "version": "3.7.3"
  },
  "toc": {
   "colors": {
    "hover_highlight": "#DAA520",
    "running_highlight": "#FF0000",
    "selected_highlight": "#FFD700"
   },
   "moveMenuLeft": true,
   "nav_menu": {
    "height": "30.554px",
    "width": "251.989px"
   },
   "navigate_menu": true,
   "number_sections": false,
   "sideBar": true,
   "threshold": 4,
   "toc_cell": false,
   "toc_section_display": "block",
   "toc_window_display": false
  }
 },
 "nbformat": 4,
 "nbformat_minor": 5
}
